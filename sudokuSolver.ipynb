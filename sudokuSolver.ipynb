{
 "cells": [
  {
   "cell_type": "markdown",
   "source": [
    "<center> بسم الله الرحمن الرحيم </center>\n",
    "\n",
    "# **Solving Sudoku with CSP**\n",
    "## Project description:\n",
    "The aim of this project is to be able to represent the Sudoku puzzle as a constraint satisfaction problem (CSP) and solve it by applying: (1) Standard backtracking (BT), (2) Forward Checking algorithm (FC), and (3) Maintaining Arc-Consistency algorithm (MAC). You are free to use any additional heuristics.\n",
    "## Understanding Sudoku and Constraint Satisfaction Problems (CSPs):\n",
    "Sudoku is a logic-based number placement puzzle that has gained worldwide popularity. The objective of the game is to fill a 9×9 grid with digits so that each column, each row, and each of the nine 3×3 subgrids that compose the grid contain all of the digits from 1 to 9. The puzzle setter provides a partially completed grid, which typically has a unique solution.\n",
    "A Constraint Satisfaction Problem (CSP) is a mathematical problem defined as a set of objects whose state must satisfy a number of constraints or restrictions. CSPs represent the entities in a problem as a homogeneous collection of finite constraints over variables, which is solved by constraint satisfaction methods. CSPs are a powerful concept for expressing and solving problems in various areas, such as artificial intelligence, computer science, and operations research.\n",
    "\n",
    "<br>\n",
    "\n",
    "<center>\n",
    "<table>\n",
    "  <tr>\n",
    "    <td><img src=\"img/sudoku_before.png\" alt=\"Sudoku Puzzle before solving\"></td>\n",
    "    <td><img src=\"img/sudoku_after.png\" alt=\"Sudoku Puzzle after solving\"></td>\n",
    "  </tr>\n",
    "  <tr>\n",
    "    <td style=\"text-align: center;\">Sudoku Puzzle before solving</td>\n",
    "    <td style=\"text-align: center;\">Sudoku Puzzle after solving</td>\n",
    "  </tr>\n",
    "</table>\n",
    "</center>\n",
    "\n",
    "\n",
    "\n",
    "\n",
    "<br>\n",
    "\n",
    "### Formulating Sudoku as a CSP involves the following steps:\n",
    "   1. **Variables**\n",
    "   Each cell in the Sudoku grid is considered as a variable. This gives us 81 variables \n",
    "   (9 rows × 9 columns), each with a domain of {1,2,…,9}.\n",
    "   2. **Domains**\n",
    "   The domain of each variable (cell) is the set of numbers from 1 to 9.\n",
    "   3. **Constrains**\n",
    "    The constraints are based on the rules of Sudoku:\n",
    "        * All numbers in each row must be different.\n",
    "        * All numbers in each 3×3 grid must be different.\n",
    "        * If the Sudoku puzzle is partially completed, there are additional constraints for each cell that contains a number.\n",
    "\n",
    "  By formulating Sudoku as a CSP, we can apply various algorithms used for solving CSPs to solve Sudoku puzzles.        "
   ],
   "metadata": {
    "collapsed": false
   },
   "id": "633795fe1f561193"
  },
  {
   "cell_type": "markdown",
   "source": [
    "## Loading the dataset"
   ],
   "metadata": {
    "collapsed": false
   },
   "id": "23cd4f0b7065c0b9"
  },
  {
   "cell_type": "code",
   "execution_count": null,
   "outputs": [],
   "source": [
    "import pandas as pd\n",
    "\n",
    "# Load the dataset\n",
    "data = pd.read_csv('sudoku.csv')\n",
    "\n",
    "# Get the puzzles and solutions\n",
    "puzzles = data['quizzes']\n",
    "solutions = data['solutions']\n"
   ],
   "metadata": {
    "collapsed": false
   },
   "id": "dd74cc32550263a0"
  },
  {
   "cell_type": "markdown",
   "source": [
    "## Solve by using backtracking"
   ],
   "metadata": {
    "collapsed": false
   },
   "id": "35c90082f2d256ef"
  },
  {
   "cell_type": "code",
   "execution_count": null,
   "outputs": [],
   "source": [
    "def solve(puzzle):\n",
    "    find = find_empty(puzzle)\n",
    "    if not find:\n",
    "        return True\n",
    "    else:\n",
    "        row, col = find\n",
    "\n",
    "    for i in range(1,10):\n",
    "        if valid(puzzle, i, (row, col)):\n",
    "            puzzle[row][col] = i\n",
    "\n",
    "            if solve(puzzle):\n",
    "                return True\n",
    "\n",
    "            puzzle[row][col] = 0\n",
    "\n",
    "    return False\n",
    "\n",
    "def find_empty(puzzle):\n",
    "    for i in range(len(puzzle)):\n",
    "        for j in range(len(puzzle[0])):\n",
    "            if puzzle[i][j] == 0:\n",
    "                return (i, j)  # row, col\n",
    "\n",
    "    return None\n",
    "\n",
    "def valid(puzzle, num, pos):\n",
    "    # Check row\n",
    "    for i in range(len(puzzle[0])):\n",
    "        if puzzle[pos[0]][i] == num and pos[1] != i:\n",
    "            return False\n",
    "\n",
    "    # Check column\n",
    "    for i in range(len(puzzle)):\n",
    "        if puzzle[i][pos[1]] == num and pos[0] != i:\n",
    "            return False\n",
    "\n",
    "    # Check box\n",
    "    box_x = pos[1] // 3\n",
    "    box_y = pos[0] // 3\n",
    "\n",
    "    for i in range(box_y*3, box_y*3 + 3):\n",
    "        for j in range(box_x * 3, box_x*3 + 3):\n",
    "            if puzzle[i][j] == num and (i,j) != pos:\n",
    "                return False\n",
    "\n",
    "    return True\n"
   ],
   "metadata": {
    "collapsed": false
   },
   "id": "1d0b19fc19ea1347"
  },
  {
   "cell_type": "markdown",
   "source": [
    "## Solve by forward-checking"
   ],
   "metadata": {
    "collapsed": false
   },
   "id": "43c9d35fdc6b1e2c"
  },
  {
   "cell_type": "code",
   "execution_count": 6,
   "outputs": [],
   "source": [
    "def forward_checking(puzzle):\n",
    "    # Find an unassigned cell\n",
    "    unassigned = find_unassigned(puzzle)\n",
    "    if not unassigned:\n",
    "        return True  # Puzzle solved\n",
    "\n",
    "    row, col = unassigned\n",
    "\n",
    "    # Try all numbers from 1 to 9\n",
    "    for num in range(1, 10):\n",
    "        # Check feasibility of num at pos (row, col)\n",
    "        if is_feasible(puzzle, row, col, num):\n",
    "            # Make tentative assignment\n",
    "            puzzle[row][col] = num\n",
    "\n",
    "            # Return true if success, else undo the assignment and try again\n",
    "            if forward_checking(puzzle):\n",
    "                return True\n",
    "\n",
    "            puzzle[row][col] = 0\n",
    "\n",
    "    return False\n",
    "\n",
    "# This function iterates over each cell in the puzzle until it finds an unassigned cell (a cell with the value 0), and then it returns the position of that cell.\n",
    "def find_unassigned(puzzle):\n",
    "    for i in range(9):\n",
    "        for j in range(9):\n",
    "            if puzzle[i][j] == 0:\n",
    "                return (i, j)  # row, col\n",
    "\n",
    "    return None\n",
    "\n",
    "def is_feasible(puzzle, row, col, num):\n",
    "    # Check the row\n",
    "    for x in range(9):\n",
    "        if puzzle[row][x] == num:\n",
    "            return False\n",
    "\n",
    "    # Check the column\n",
    "    for x in range(9):\n",
    "        if puzzle[x][col] == num:\n",
    "            return False\n",
    "\n",
    "    # Check the box\n",
    "    start_row = row - row % 3\n",
    "    start_col = col - col % 3\n",
    "    for i in range(3):\n",
    "        for j in range(3):\n",
    "            if puzzle[i + start_row][j + start_col] == num:\n",
    "                return False\n",
    "\n",
    "    return True\n"
   ],
   "metadata": {
    "collapsed": false,
    "ExecuteTime": {
     "end_time": "2023-09-24T15:58:21.421354900Z",
     "start_time": "2023-09-24T15:58:21.402609200Z"
    }
   },
   "id": "b0d89bd888ac0a58"
  },
  {
   "cell_type": "markdown",
   "source": [
    "## Now using MAC"
   ],
   "metadata": {
    "collapsed": false
   },
   "id": "db67fde6ca236564"
  },
  {
   "cell_type": "code",
   "execution_count": null,
   "outputs": [],
   "source": [
    "def mac(puzzle):\n",
    "    # Find an unassigned cell\n",
    "    unassigned = find_unassigned(puzzle)\n",
    "    if not unassigned:\n",
    "        return True  # Puzzle solved\n",
    "\n",
    "    row, col = unassigned\n",
    "\n",
    "    # Try all numbers from 1 to 9\n",
    "    for num in range(1, 10):\n",
    "        # Check feasibility of num at pos (row, col)\n",
    "        if is_feasible(puzzle, row, col, num):\n",
    "            # Make tentative assignment\n",
    "            puzzle[row][col] = num\n",
    "\n",
    "            # Invoke AC-3 algorithm to maintain arc consistency after assignment\n",
    "            if ac3(puzzle):\n",
    "                # If success, proceed with next unassigned variable\n",
    "                if mac(puzzle):\n",
    "                    return True\n",
    "\n",
    "            # Undo the assignment\n",
    "            puzzle[row][col] = 0\n",
    "\n",
    "    return False\n",
    "\n",
    "def ac3(puzzle):\n",
    "    # Initialize a queue with all the arcs in the puzzle\n",
    "    queue = [(i, j) for i in range(9) for j in range(9) if puzzle[i][j] == 0]\n",
    "\n",
    "    while queue:\n",
    "        i, j = queue.pop(0)\n",
    "\n",
    "        # If revise(puzzle, i, j) returns True, then we add all neighboring cells to the queue\n",
    "        if revise(puzzle, i, j):\n",
    "            if not puzzle[i][j]:\n",
    "                return False\n",
    "\n",
    "            for h in get_neighbors(i, j):\n",
    "                queue.append(h)\n",
    "\n",
    "    return True\n",
    "\n",
    "def revise(puzzle, i, j):\n",
    "    revised = False\n",
    "    for val in puzzle[i][j]:\n",
    "        if not any(is_feasible(puzzle, i, j, val)):\n",
    "            puzzle[i][j].remove(val)\n",
    "            revised = True\n",
    "    return revised\n",
    "\n",
    "def get_neighbors(i, j):\n",
    "    neighbors = []\n",
    "\n",
    "    # Get row neighbors\n",
    "    for x in range(9):\n",
    "        if x != j:\n",
    "            neighbors.append((i, x))\n",
    "\n",
    "    # Get column neighbors\n",
    "    for x in range(9):\n",
    "        if x != i:\n",
    "            neighbors.append((x, j))\n",
    "\n",
    "    # Get box neighbors\n",
    "    start_row, start_col = 3 * (i // 3), 3 * (j // 3)\n",
    "    for x in range(start_row, start_row + 3):\n",
    "        for y in range(start_col, start_col + 3):\n",
    "            if x != i and y != j:\n",
    "                neighbors.append((x, y))\n",
    "\n",
    "    return neighbors\n"
   ],
   "metadata": {
    "collapsed": false
   },
   "id": "4c73121eb6d09ed"
  }
 ],
 "metadata": {
  "kernelspec": {
   "display_name": "Python 3",
   "language": "python",
   "name": "python3"
  },
  "language_info": {
   "codemirror_mode": {
    "name": "ipython",
    "version": 2
   },
   "file_extension": ".py",
   "mimetype": "text/x-python",
   "name": "python",
   "nbconvert_exporter": "python",
   "pygments_lexer": "ipython2",
   "version": "2.7.6"
  }
 },
 "nbformat": 4,
 "nbformat_minor": 5
}
